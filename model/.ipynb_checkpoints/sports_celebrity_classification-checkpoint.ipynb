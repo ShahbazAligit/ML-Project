{
 "cells": [
  {
   "cell_type": "markdown",
   "id": "d3175bfb",
   "metadata": {},
   "source": [
    "# Sports Celebrity Classification (Checkpoint)\n",
    "Alternate training notebook for sports celebrity classification."
   ]
  },
  {
   "cell_type": "code",
   "execution_count": null,
   "id": "7378d3b6",
   "metadata": {},
   "outputs": [],
   "source": [
    "import os, json, joblib, numpy as np, cv2\n",
    "from sklearn.svm import SVC\n",
    "from sklearn.model_selection import train_test_split\n",
    "from sklearn.metrics import accuracy_score\n",
    "\n",
    "ARTIFACTS_DIR = \"artifacts\"\n",
    "os.makedirs(ARTIFACTS_DIR, exist_ok=True)\n",
    "\n",
    "# TODO: load dataset\n",
    "X, y = [], []"
   ]
  },
  {
   "cell_type": "code",
   "execution_count": null,
   "id": "c31f4e42",
   "metadata": {},
   "outputs": [],
   "source": [
    "X = np.array(X); y = np.array(y)\n",
    "X_train, X_test, y_train, y_test = train_test_split(X, y, test_size=0.2, random_state=42, stratify=y)\n",
    "model = SVC(probability=True, random_state=42)\n",
    "model.fit(X_train, y_train)\n",
    "print(\"Accuracy:\", accuracy_score(y_test, model.predict(X_test)))"
   ]
  },
  {
   "cell_type": "code",
   "execution_count": null,
   "id": "14996575",
   "metadata": {},
   "outputs": [],
   "source": [
    "class_name_to_number = {name: idx for idx, name in enumerate(np.unique(y))}\n",
    "joblib.dump(model, os.path.join(ARTIFACTS_DIR, \"saved_model.pkl\"))\n",
    "with open(os.path.join(ARTIFACTS_DIR, \"class_dictionary.json\"), \"w\") as f:\n",
    "    json.dump(class_name_to_number, f)"
   ]
  }
 ],
 "metadata": {},
 "nbformat": 4,
 "nbformat_minor": 5
}
