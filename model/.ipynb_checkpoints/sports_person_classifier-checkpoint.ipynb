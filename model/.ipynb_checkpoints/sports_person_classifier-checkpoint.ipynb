{
 "cells": [
  {
   "cell_type": "markdown",
   "id": "31f6f1d7",
   "metadata": {},
   "source": [
    "# Sports Person Classifier (Checkpoint)\n",
    "This notebook trains an image classifier for sports celebrities."
   ]
  },
  {
   "cell_type": "code",
   "execution_count": null,
   "id": "3738942a",
   "metadata": {},
   "outputs": [],
   "source": [
    "import os, json, joblib, numpy as np, cv2\n",
    "import matplotlib.pyplot as plt, seaborn as sns\n",
    "from sklearn.model_selection import train_test_split, GridSearchCV\n",
    "from sklearn.svm import SVC\n",
    "from sklearn.metrics import confusion_matrix, classification_report, accuracy_score\n",
    "\n",
    "ARTIFACTS_DIR = \"artifacts\"\n",
    "os.makedirs(ARTIFACTS_DIR, exist_ok=True)"
   ]
  },
  {
   "cell_type": "code",
   "execution_count": null,
   "id": "3892d984",
   "metadata": {},
   "outputs": [],
   "source": [
    "# TODO: Load your dataset here\n",
    "X, y = [], []"
   ]
  },
  {
   "cell_type": "code",
   "execution_count": null,
   "id": "822d2e88",
   "metadata": {},
   "outputs": [],
   "source": [
    "X = np.array(X); y = np.array(y)\n",
    "X_train, X_test, y_train, y_test = train_test_split(X, y, test_size=0.2,\n",
    "                                                    random_state=42, stratify=y)"
   ]
  },
  {
   "cell_type": "code",
   "execution_count": null,
   "id": "386a2c47",
   "metadata": {},
   "outputs": [],
   "source": [
    "param_grid = {'C': [1,10], 'kernel': ['linear','rbf'], 'gamma':['scale','auto']}\n",
    "svc = SVC(probability=True, random_state=42)\n",
    "grid = GridSearchCV(svc, param_grid, cv=5, n_jobs=-1, verbose=2)\n",
    "grid.fit(X_train, y_train)\n",
    "model = grid.best_estimator_"
   ]
  },
  {
   "cell_type": "code",
   "execution_count": null,
   "id": "568c9fbc",
   "metadata": {},
   "outputs": [],
   "source": [
    "y_pred = model.predict(X_test)\n",
    "print(\"Accuracy:\", accuracy_score(y_test, y_pred))\n",
    "print(classification_report(y_test, y_pred))"
   ]
  },
  {
   "cell_type": "code",
   "execution_count": null,
   "id": "ef40b51f",
   "metadata": {},
   "outputs": [],
   "source": [
    "class_name_to_number = {name: idx for idx, name in enumerate(np.unique(y))}\n",
    "joblib.dump(model, os.path.join(ARTIFACTS_DIR, \"saved_model.pkl\"))\n",
    "with open(os.path.join(ARTIFACTS_DIR, \"class_dictionary.json\"), \"w\") as f:\n",
    "    json.dump(class_name_to_number, f)"
   ]
  }
 ],
 "metadata": {},
 "nbformat": 4,
 "nbformat_minor": 5
}
