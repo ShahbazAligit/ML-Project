{
 "cells": [
  {
   "cell_type": "markdown",
   "id": "158e9ce9",
   "metadata": {},
   "source": [
    "# Sports Person Classifier\n",
    "\n",
    "This notebook trains an image classifier for sports celebrities, saves model artifacts, and ensures compatibility with the Flask server."
   ]
  },
  {
   "cell_type": "code",
   "execution_count": null,
   "id": "22814d52",
   "metadata": {},
   "outputs": [],
   "source": [
    "import os\n",
    "import json\n",
    "import joblib\n",
    "import numpy as np\n",
    "import cv2\n",
    "import matplotlib.pyplot as plt\n",
    "import seaborn as sns\n",
    "\n",
    "from sklearn.model_selection import train_test_split, GridSearchCV\n",
    "from sklearn.svm import SVC\n",
    "from sklearn.metrics import confusion_matrix, classification_report, accuracy_score\n",
    "\n",
    "# Ensure artifacts directory exists\n",
    "ARTIFACTS_DIR = \"artifacts\"\n",
    "os.makedirs(ARTIFACTS_DIR, exist_ok=True)"
   ]
  },
  {
   "cell_type": "markdown",
   "id": "01a64228",
   "metadata": {},
   "source": [
    "## Load and preprocess dataset"
   ]
  },
  {
   "cell_type": "code",
   "execution_count": null,
   "id": "5aee412e",
   "metadata": {},
   "outputs": [],
   "source": [
    "# TODO: Replace with actual dataset loading logic\n",
    "# Example: load images and labels into X, y arrays\n",
    "\n",
    "X = []  # features (flattened images or extracted features)\n",
    "y = []  # labels (person names)\n",
    "\n",
    "# Example dummy code (replace with actual)\n",
    "# img = cv2.imread(\"path/to/image.jpg\")\n",
    "# X.append(processed_image_array)\n",
    "# y.append(\"virat\")"
   ]
  },
  {
   "cell_type": "code",
   "execution_count": null,
   "id": "983f78de",
   "metadata": {},
   "outputs": [],
   "source": [
    "# Convert to numpy arrays\n",
    "X = np.array(X)\n",
    "y = np.array(y)\n",
    "\n",
    "# Train/test split\n",
    "X_train, X_test, y_train, y_test = train_test_split(X, y, test_size=0.2, random_state=42, stratify=y)"
   ]
  },
  {
   "cell_type": "markdown",
   "id": "e30e4f81",
   "metadata": {},
   "source": [
    "## Train model using SVM"
   ]
  },
  {
   "cell_type": "code",
   "execution_count": null,
   "id": "abb9934c",
   "metadata": {},
   "outputs": [],
   "source": [
    "param_grid = {\n",
    "    'C': [1, 10, 100],\n",
    "    'kernel': ['linear', 'rbf'],\n",
    "    'gamma': ['scale', 'auto']\n",
    "}\n",
    "\n",
    "svc = SVC(probability=True, random_state=42)\n",
    "grid = GridSearchCV(svc, param_grid, cv=5, n_jobs=-1, verbose=2)\n",
    "grid.fit(X_train, y_train)\n",
    "\n",
    "print(\"Best parameters:\", grid.best_params_)\n",
    "print(\"Best score:\", grid.best_score_)\n",
    "\n",
    "model = grid.best_estimator_"
   ]
  },
  {
   "cell_type": "markdown",
   "id": "107dd782",
   "metadata": {},
   "source": [
    "## Evaluate model"
   ]
  },
  {
   "cell_type": "code",
   "execution_count": null,
   "id": "91de746d",
   "metadata": {},
   "outputs": [],
   "source": [
    "y_pred = model.predict(X_test)\n",
    "print(\"Accuracy:\", accuracy_score(y_test, y_pred))\n",
    "print(classification_report(y_test, y_pred))\n",
    "\n",
    "cm = confusion_matrix(y_test, y_pred)\n",
    "plt.figure(figsize=(6,5))\n",
    "sns.heatmap(cm, annot=True, fmt='d', cmap='Blues')\n",
    "plt.xlabel(\"Predicted\")\n",
    "plt.ylabel(\"True\")\n",
    "plt.show()"
   ]
  },
  {
   "cell_type": "markdown",
   "id": "8119cb06",
   "metadata": {},
   "source": [
    "## Save model artifacts"
   ]
  },
  {
   "cell_type": "code",
   "execution_count": null,
   "id": "1abd0ae5",
   "metadata": {},
   "outputs": [],
   "source": [
    "# Create class dictionary\n",
    "class_name_to_number = {name: idx for idx, name in enumerate(np.unique(y))}\n",
    "class_number_to_name = {v: k for k, v in class_name_to_number.items()}\n",
    "\n",
    "# Save model\n",
    "joblib.dump(model, os.path.join(ARTIFACTS_DIR, \"saved_model.pkl\"))\n",
    "\n",
    "# Save class dictionary\n",
    "with open(os.path.join(ARTIFACTS_DIR, \"class_dictionary.json\"), \"w\") as f:\n",
    "    json.dump(class_name_to_number, f)\n",
    "\n",
    "print(\"Artifacts saved to:\", ARTIFACTS_DIR)"
   ]
  },
  {
   "cell_type": "markdown",
   "id": "75e190e1",
   "metadata": {},
   "source": [
    "## Test loading artifacts"
   ]
  },
  {
   "cell_type": "code",
   "execution_count": null,
   "id": "ddd8486e",
   "metadata": {},
   "outputs": [],
   "source": [
    "from util import load_saved_artifacts, classify_image\n",
    "\n",
    "# Load artifacts\n",
    "load_saved_artifacts()\n",
    "\n",
    "# Test classification with a sample image if available\n",
    "# Example:\n",
    "# result = classify_image(None, \"test_images/virat.jpg\")\n",
    "# print(result)"
   ]
  }
 ],
 "metadata": {},
 "nbformat": 4,
 "nbformat_minor": 5
}
